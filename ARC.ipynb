{
 "cells": [
  {
   "cell_type": "code",
   "execution_count": 6,
   "metadata": {},
   "outputs": [],
   "source": [
    "import requests\n",
    "import json\n",
    "\n",
    "url = \"https://api.company-information.service.gov.uk/advanced-search/companies\"\n",
    "\n",
    "headers = {\n",
    "    'authorization': \"d5ff98ed-be5d-4d53-9d1c-fbe83f2a363d\",\n",
    "    'cache-control': \"no-cache\",\n",
    "    'postman-token': \"e34325ef-2b88-0ad6-78d7-bc9eac3c589e\"\n",
    "    }\n",
    "\n",
    "response = requests.request(\"GET\", url, headers=headers)\n",
    "\n",
    "# print(response.text)\n",
    "\n",
    "json_data = response.text\n",
    "\n",
    "json_object = json.loads(json_data)\n",
    "\n",
    "# print(json.dumps(json_object, indent = 1))\n",
    "final_op = json.dumps(json_object, indent = 1)\n",
    "\n",
    "with open(\"sample.json\", \"w\") as outfile:\n",
    "    outfile.write(final_op)"
   ]
  }
 ],
 "metadata": {
  "kernelspec": {
   "display_name": "Python 3.9.5 ('base')",
   "language": "python",
   "name": "python3"
  },
  "language_info": {
   "codemirror_mode": {
    "name": "ipython",
    "version": 3
   },
   "file_extension": ".py",
   "mimetype": "text/x-python",
   "name": "python",
   "nbconvert_exporter": "python",
   "pygments_lexer": "ipython3",
   "version": "3.9.5"
  },
  "orig_nbformat": 4,
  "vscode": {
   "interpreter": {
    "hash": "86ab20f96dd260f0ea04ab3ffa017f5413ab6e91e70c09c8b607d2f78bbab7d8"
   }
  }
 },
 "nbformat": 4,
 "nbformat_minor": 2
}
